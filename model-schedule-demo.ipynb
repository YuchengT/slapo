{
 "cells": [
  {
   "cell_type": "markdown",
   "id": "a8b99b44",
   "metadata": {},
   "source": [
    "# Decouple Model Execution from Definition\n",
    "\n",
    "Hongzheng Chen, Cody Hao Yu, Shuai Zheng\n",
    "\n",
    "\n",
    "## Background and Motivation\n",
    "* **Performance**: Large gap between native implementations and optimized models. From Mu's slide\n",
    "    | Model\\Performance (TFLOPs) | HuggingFace | Megatron-LM |\n",
    "    | :--: | :--: | :--: |\n",
    "    | BERT | 31 | **43** |\n",
    "    | GPT2 | 19 | **42** |\n",
    "* **Productivity**\n",
    "    * Megatron-LM, DeepSpeed ZeRO-3: Parameter sharding; MiCS: prefetching, buffer pre-allocation\n",
    "    * Manually modify the model\n",
    "    * Components are not reusable for models other than Transformers\n",
    "* **Customizability**\n",
    "    * Alpa automatically searches for the optimial 3D parallelism\n",
    "    * Compilation passes are monolithic: Cannot just do some optimizations for specific layers and see results (e.g. shard an op)\n",
    "    * Optimization are opaque: Hard to locate the issues in the compiler\n",
    "\n",
    "\n",
    "## Proposal: A Model Scheduling DSL\n",
    "Decouple model execution from definition\n",
    "* TVM/Halide: Only consider op-level optimization and only for single machine inference workload\n",
    "\n",
    "Cover optimizations: (which requires manually changing the models in existing works)\n",
    "1. Parameter sharding\n",
    "2. Kernel fusion/injection\n",
    "3. Gradient checkpointing\n",
    "4. Memory defragmentation\n",
    "5. ..."
   ]
  },
  {
   "cell_type": "markdown",
   "id": "4acf2401",
   "metadata": {},
   "source": [
    "## Demos\n",
    "\n",
    "### (1) Kernel Injection\n",
    "\n",
    "Import required packages"
   ]
  },
  {
   "cell_type": "code",
   "execution_count": 1,
   "id": "c2314589",
   "metadata": {},
   "outputs": [
    {
     "name": "stdout",
     "output_type": "stream",
     "text": [
      "True\n"
     ]
    }
   ],
   "source": [
    "import os, sys, copy, time\n",
    "import torch\n",
    "import torch.nn as nn\n",
    "import numpy as np\n",
    "import matplotlib.pyplot as plt\n",
    "import ms # model-scheduling\n",
    "print(torch.cuda.is_available())"
   ]
  },
  {
   "cell_type": "markdown",
   "id": "b4e6b7a8",
   "metadata": {},
   "source": [
    "Create a simple MLP model with layer norm"
   ]
  },
  {
   "cell_type": "code",
   "execution_count": 2,
   "id": "d54d1b8e",
   "metadata": {},
   "outputs": [],
   "source": [
    "N = 2048\n",
    "\n",
    "class MLP(nn.Module):\n",
    "\n",
    "    def __init__(self, dim: int):\n",
    "        super().__init__()\n",
    "        self.dense_1 = nn.Linear(dim, dim * 2)\n",
    "        self.layer_norm = nn.LayerNorm([dim, dim * 2])\n",
    "        self.activation = nn.ReLU()\n",
    "        self.dense_2 = nn.Linear(dim * 2, dim)\n",
    "\n",
    "    def forward(self, x):\n",
    "        x = self.dense_1(x)\n",
    "        x = self.layer_norm(x)\n",
    "        x = self.activation(x)\n",
    "        x = self.dense_2(x)\n",
    "        return x"
   ]
  },
  {
   "cell_type": "markdown",
   "id": "4982ef55",
   "metadata": {},
   "source": [
    "Instanciate the model and create an optimizer for traing"
   ]
  },
  {
   "cell_type": "code",
   "execution_count": 3,
   "id": "4d28207a",
   "metadata": {},
   "outputs": [],
   "source": [
    "device = \"cuda:0\"\n",
    "model = MLP(N).to(device)"
   ]
  },
  {
   "cell_type": "markdown",
   "id": "7a099060",
   "metadata": {},
   "source": [
    "Create a default schedule"
   ]
  },
  {
   "cell_type": "code",
   "execution_count": 4,
   "id": "e3858651",
   "metadata": {},
   "outputs": [],
   "source": [
    "sch = ms.create_schedule(copy.deepcopy(model))"
   ]
  },
  {
   "cell_type": "markdown",
   "id": "57a7b909",
   "metadata": {},
   "source": [
    "Currently we use torch.fx to trace the model and generate IR for optimization. We can print out the graph module to see the operators."
   ]
  },
  {
   "cell_type": "code",
   "execution_count": 5,
   "id": "ff71924b",
   "metadata": {},
   "outputs": [
    {
     "name": "stdout",
     "output_type": "stream",
     "text": [
      "graph():\n",
      "    %x : [#users=1] = placeholder[target=x]\n",
      "    %dense_1 : [#users=1] = call_module[target=dense_1](args = (%x,), kwargs = {})\n",
      "    %layer_norm : [#users=1] = call_module[target=layer_norm](args = (%dense_1,), kwargs = {})\n",
      "    %activation : [#users=1] = call_module[target=activation](args = (%layer_norm,), kwargs = {})\n",
      "    %dense_2 : [#users=1] = call_module[target=dense_2](args = (%activation,), kwargs = {})\n",
      "    return dense_2\n"
     ]
    }
   ],
   "source": [
    "print(sch.gm.graph)"
   ]
  },
  {
   "cell_type": "code",
   "execution_count": null,
   "id": "2b25da66",
   "metadata": {},
   "outputs": [],
   "source": [
    "sch.modules"
   ]
  },
  {
   "cell_type": "markdown",
   "id": "2c0859ba",
   "metadata": {},
   "source": [
    "Print operators in the module"
   ]
  },
  {
   "cell_type": "code",
   "execution_count": 6,
   "id": "dbae77fb",
   "metadata": {},
   "outputs": [
    {
     "name": "stdout",
     "output_type": "stream",
     "text": [
      "['dense_1', 'layer_norm', 'activation', 'dense_2']\n"
     ]
    }
   ],
   "source": [
    "ops = sch.forward_ops\n",
    "print(ops)"
   ]
  },
  {
   "cell_type": "markdown",
   "id": "94600d77",
   "metadata": {},
   "source": [
    "Replace layer_norm with Apex layer_norm. Just a single line!"
   ]
  },
  {
   "cell_type": "code",
   "execution_count": 7,
   "id": "9e38892b",
   "metadata": {},
   "outputs": [],
   "source": [
    "from apex.normalization.fused_layer_norm import FusedLayerNorm\n",
    "\n",
    "sch[ops[1]].replace(FusedLayerNorm, [N, N * 2])"
   ]
  },
  {
   "cell_type": "markdown",
   "id": "92e71e9d",
   "metadata": {},
   "source": [
    "Apply the schedule and regenerate the module"
   ]
  },
  {
   "cell_type": "code",
   "execution_count": 8,
   "id": "1d7739c7",
   "metadata": {},
   "outputs": [
    {
     "name": "stdout",
     "output_type": "stream",
     "text": [
      "GraphModule(\n",
      "  (dense_1): Linear(in_features=2048, out_features=4096, bias=True)\n",
      "  (layer_norm): LayerNorm((2048, 4096), eps=1e-05, elementwise_affine=True)\n",
      "  (activation): ReLU()\n",
      "  (dense_2): Linear(in_features=4096, out_features=2048, bias=True)\n",
      "  (FusedLayerNorm): FusedLayerNorm(torch.Size([2048, 4096]), eps=1e-05, elementwise_affine=True)\n",
      ")\n",
      "\n",
      "\n",
      "\n",
      "def forward(self, x):\n",
      "    dense_1 = self.dense_1(x);  x = None\n",
      "    fused_layer_norm = self.FusedLayerNorm(dense_1);  dense_1 = None\n",
      "    activation = self.activation(fused_layer_norm);  fused_layer_norm = None\n",
      "    dense_2 = self.dense_2(activation);  activation = None\n",
      "    return dense_2\n",
      "    \n",
      "# To see more debug info, please use `graph_module.print_readable()`\n",
      "ShardingPlan(plan={}, output_plan={}, return_local_tensor=['dense_2'])\n",
      "graph():\n",
      "    %x : [#users=1] = placeholder[target=x]\n",
      "    %dense_1 : [#users=1] = call_module[target=dense_1](args = (%x,), kwargs = {})\n",
      "    %fused_layer_norm : [#users=1] = call_module[target=FusedLayerNorm](args = (%dense_1,), kwargs = {})\n",
      "    %activation : [#users=1] = call_module[target=activation](args = (%fused_layer_norm,), kwargs = {})\n",
      "    %dense_2 : [#users=1] = call_module[target=dense_2](args = (%activation,), kwargs = {})\n",
      "    return dense_2\n"
     ]
    }
   ],
   "source": [
    "opt_model, optimizer = ms.build(sch)\n",
    "print(opt_model.graph)"
   ]
  },
  {
   "cell_type": "code",
   "execution_count": 9,
   "id": "d3129b91",
   "metadata": {},
   "outputs": [
    {
     "name": "stdout",
     "output_type": "stream",
     "text": [
      "Results are correct!\n"
     ]
    }
   ],
   "source": [
    "inp = torch.rand(N, N).to(device)\n",
    "original_output = model(inp)\n",
    "optimized_output = opt_model(inp)\n",
    "assert torch.allclose(original_output, optimized_output)\n",
    "print(\"Results are correct!\")"
   ]
  },
  {
   "cell_type": "code",
   "execution_count": 10,
   "id": "e8160bf1",
   "metadata": {},
   "outputs": [
    {
     "name": "stdout",
     "output_type": "stream",
     "text": [
      "Pytorch: 0.2251ms\n",
      "Apex: 0.2225ms\n"
     ]
    },
    {
     "data": {
      "image/png": "[encoded data removed]",
      "text/plain": [
       "<Figure size 640x480 with 1 Axes>"
      ]
     },
     "metadata": {},
     "output_type": "display_data"
    }
   ],
   "source": [
    "pt_time = []\n",
    "apex_time = []\n",
    "for i in range(100):\n",
    "    inp = torch.rand(N, N).to(device)\n",
    "    # Test native PyTorch implementation\n",
    "    start_time = time.time()\n",
    "    original_output = model(inp)\n",
    "    pt_time.append((time.time() - start_time) * 1000)\n",
    "    # Test Apex function\n",
    "    start_time = time.time()\n",
    "    optimized_output = opt_model(inp)\n",
    "    apex_time.append((time.time() - start_time) * 1000)\n",
    "\n",
    "# plot results\n",
    "plt.plot(np.arange(100), pt_time, label=\"pytorch\")\n",
    "plt.plot(np.arange(100), apex_time, label=\"apex\")\n",
    "plt.legend()\n",
    "print(\"Pytorch: {:.4f}ms\".format(np.mean(pt_time)))\n",
    "print(\"Apex: {:.4f}ms\".format(np.mean(apex_time)))"
   ]
  },
  {
   "cell_type": "markdown",
   "id": "b187e3be",
   "metadata": {},
   "source": [
    "### (1.1) Kernel Fusion\n",
    "\n",
    "Similarly, we can replace a series of ops with a single fused op/block."
   ]
  },
  {
   "cell_type": "code",
   "execution_count": 11,
   "id": "e7a69368",
   "metadata": {},
   "outputs": [
    {
     "name": "stdout",
     "output_type": "stream",
     "text": [
      "graph():\n",
      "    %x : [#users=1] = placeholder[target=x]\n",
      "    %fused_block : [#users=1] = call_module[target=FusedBlock](args = (%x,), kwargs = {})\n",
      "    %dense_2 : [#users=1] = call_module[target=dense_2](args = (%fused_block,), kwargs = {})\n",
      "    return dense_2\n"
     ]
    }
   ],
   "source": [
    "class FusedBlock(nn.Module):\n",
    "\n",
    "    def __init__(self, dim: int):\n",
    "        super().__init__()\n",
    "        self.fc = nn.Linear(dim, dim * 2)\n",
    "        self.ln = nn.LayerNorm([dim, dim * 2])\n",
    "        self.relu = nn.ReLU()\n",
    "\n",
    "    def forward(self, x):\n",
    "        x = self.relu(self.ln(self.fc(x)))\n",
    "        return x\n",
    "\n",
    "sch = ms.create_schedule(copy.deepcopy(model))\n",
    "ops = sch.forward_ops\n",
    "sch[ops[0:3]].replace(FusedBlock, N)\n",
    "print(sch.gm.graph)"
   ]
  },
  {
   "cell_type": "markdown",
   "id": "d08e54c8",
   "metadata": {},
   "source": [
    "### (2) Parameter Sharding\n",
    "\n"
   ]
  },
  {
   "cell_type": "code",
   "execution_count": 12,
   "id": "66856972",
   "metadata": {},
   "outputs": [],
   "source": [
    "class MLP(nn.Module):\n",
    "\n",
    "    def __init__(self, dim: int = 32):\n",
    "        super().__init__()\n",
    "        intermediate_dim = dim * 2\n",
    "        self.dense_1 = nn.Linear(dim, intermediate_dim)\n",
    "        self.activation = nn.ReLU()\n",
    "        self.dense_2 = nn.Linear(intermediate_dim, dim)\n",
    "\n",
    "    def forward(self, x):\n",
    "        x = self.dense_1(x)\n",
    "        x = self.activation(x)\n",
    "        x = self.dense_2(x)\n",
    "        return x\n",
    "\n",
    "def train(rank, world_size):\n",
    "    print(f\"Running basic MLP example on rank {rank}.\")\n",
    "\n",
    "    # === Model execution schedule ===\n",
    "    model = MLP(32).cuda(rank)\n",
    "    optimizer = torch.optim.SGD(model.parameters(), lr=0.002)\n",
    "\n",
    "    # Create a default schedule\n",
    "    sch = ms.create_schedule(model, optimizer, world_size, rank)\n",
    "    \n",
    "    # Access operators\n",
    "    ops = sch.forward_ops\n",
    "\n",
    "    # Partition parameters\n",
    "    # column sharding for dense_1\n",
    "    sch[ops[0]].partition(axis=1, param=\"weight\")\n",
    "    # row sharding for dense_2\n",
    "    sch[ops[2]].partition(axis=0, param=\"weight\")\n",
    "\n",
    "    # Partition outputs\n",
    "    # The result from dense_2 needs aggregation\n",
    "    sch[ops[2]].partition(axis=1)\n",
    "\n",
    "    # Apply schedule and regenerate module\n",
    "    model, optimizer = ms.build(sch)\n",
    "\n",
    "    # Perform a num of iterations of forward/backward\n",
    "    # and optimizations for the sharded module.\n",
    "    for i in range(5):\n",
    "        start_time = time.time()\n",
    "        inp = torch.rand(16, 32).cuda(rank)\n",
    "        output = model(inp)\n",
    "        output.sum().backward()\n",
    "        optimizer.step()\n",
    "        elapsed_time = time.time() - start_time\n",
    "        print(f\"Finish step {i}, time: {elapsed_time:.10f}s\")"
   ]
  },
  {
   "cell_type": "code",
   "execution_count": 13,
   "id": "17e4425e",
   "metadata": {},
   "outputs": [
    {
     "name": "stdout",
     "output_type": "stream",
     "text": [
      "Running basic MLP example on rank 0.\n",
      "['dense_1', 'layer_norm', 'activation', 'dense_2']\n",
      "GraphModule(\n",
      "  (dense_1): Linear(in_features=32, out_features=64, bias=True)\n",
      "  (layer_norm): LayerNorm((32, 64), eps=1e-05, elementwise_affine=True)\n",
      "  (activation): ReLU()\n",
      "  (dense_2): Linear(in_features=64, out_features=32, bias=True)\n",
      ")\n",
      "\n",
      "\n",
      "\n",
      "def forward(self, x):\n",
      "    dense_1 = self.dense_1(x);  x = None\n",
      "    layer_norm = self.layer_norm(dense_1);  dense_1 = None\n",
      "    activation = self.activation(layer_norm);  layer_norm = None\n",
      "    dense_2 = self.dense_2(activation);  activation = None\n",
      "    return dense_2\n",
      "    \n",
      "# To see more debug info, please use `graph_module.print_readable()`\n",
      "[W socket.cpp:426] [c10d] The server socket has failed to bind to [::]:12888 (errno: 98 - Address already in use).\n",
      "[W socket.cpp:426] [c10d] The server socket has failed to bind to 0.0.0.0:12888 (errno: 98 - Address already in use).\n",
      "[E socket.cpp:462] [c10d] The server socket has failed to listen on any local network address.\n",
      "Traceback (most recent call last):\n",
      "  File \"/home/ubuntu/model-schedule/test.py\", line 70, in <module>\n",
      "    ms.execute(train, args)\n",
      "  File \"/home/ubuntu/model-schedule/ms/env.py\", line 26, in execute\n",
      "    mp.spawn(fn,\n",
      "  File \"/home/ubuntu/tools/anaconda3/envs/pydev/lib/python3.9/site-packages/torch/multiprocessing/spawn.py\", line 240, in spawn\n",
      "    return start_processes(fn, args, nprocs, join, daemon, start_method='spawn')\n",
      "  File \"/home/ubuntu/tools/anaconda3/envs/pydev/lib/python3.9/site-packages/torch/multiprocessing/spawn.py\", line 198, in start_processes\n",
      "    while not context.join():\n",
      "  File \"/home/ubuntu/tools/anaconda3/envs/pydev/lib/python3.9/site-packages/torch/multiprocessing/spawn.py\", line 160, in join\n",
      "    raise ProcessRaisedException(msg, error_index, failed_process.pid)\n",
      "torch.multiprocessing.spawn.ProcessRaisedException: \n",
      "\n",
      "-- Process 0 terminated with the following error:\n",
      "Traceback (most recent call last):\n",
      "  File \"/home/ubuntu/tools/anaconda3/envs/pydev/lib/python3.9/site-packages/torch/multiprocessing/spawn.py\", line 69, in _wrap\n",
      "    fn(i, *args)\n",
      "  File \"/home/ubuntu/model-schedule/test.py\", line 49, in train\n",
      "    model, optimizer = ms.build(sch)\n",
      "  File \"/home/ubuntu/model-schedule/ms/schedule.py\", line 183, in build\n",
      "    setup(rank, world_size)\n",
      "  File \"/home/ubuntu/model-schedule/ms/env.py\", line 13, in setup\n",
      "    dist.init_process_group(\"nccl\", rank=rank, world_size=world_size)\n",
      "  File \"/home/ubuntu/tools/anaconda3/envs/pydev/lib/python3.9/site-packages/torch/distributed/distributed_c10d.py\", line 663, in init_process_group\n",
      "    store, rank, world_size = next(rendezvous_iterator)\n",
      "  File \"/home/ubuntu/tools/anaconda3/envs/pydev/lib/python3.9/site-packages/torch/distributed/rendezvous.py\", line 246, in _env_rendezvous_handler\n",
      "    store = _create_c10d_store(master_addr, master_port, rank, world_size, timeout)\n",
      "  File \"/home/ubuntu/tools/anaconda3/envs/pydev/lib/python3.9/site-packages/torch/distributed/rendezvous.py\", line 177, in _create_c10d_store\n",
      "    return TCPStore(\n",
      "RuntimeError: The server socket has failed to listen on any local network address. The server socket has failed to bind to [::]:12888 (errno: 98 - Address already in use). The server socket has failed to bind to 0.0.0.0:12888 (errno: 98 - Address already in use).\n",
      "\n"
     ]
    }
   ],
   "source": [
    "! python3 mlp_ms.py --world_size 2"
   ]
  },
  {
   "cell_type": "code",
   "execution_count": null,
   "id": "b59d022d",
   "metadata": {},
   "outputs": [],
   "source": []
  }
 ],
 "metadata": {
  "kernelspec": {
   "display_name": "Python 3 (ipykernel)",
   "language": "python",
   "name": "python3"
  },
  "language_info": {
   "codemirror_mode": {
    "name": "ipython",
    "version": 3
   },
   "file_extension": ".py",
   "mimetype": "text/x-python",
   "name": "python",
   "nbconvert_exporter": "python",
   "pygments_lexer": "ipython3",
   "version": "3.9.13"
  }
 },
 "nbformat": 4,
 "nbformat_minor": 5
}
